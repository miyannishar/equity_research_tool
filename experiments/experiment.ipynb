{
 "cells": [
  {
   "cell_type": "code",
   "execution_count": 2,
   "metadata": {},
   "outputs": [],
   "source": [
    "from langchain_community.document_loaders import TextLoader # type: ignore"
   ]
  },
  {
   "cell_type": "code",
   "execution_count": 3,
   "metadata": {},
   "outputs": [],
   "source": [
    "loader = TextLoader(\"news.txt\")\n",
    "data = loader.load()"
   ]
  },
  {
   "cell_type": "code",
   "execution_count": 4,
   "metadata": {},
   "outputs": [
    {
     "data": {
      "text/plain": [
       "Document(page_content='Republicans join Donald Trump\\'s attacks on justice system, campaign of vengeance for guilty verdict\\nTrump still faces three other felony indictments\\n\\nByLISA MASCARO and MARY CLARE JALONICK AP logo\\nSaturday, June 1, 2024 10:59PM\\n\\n\\n\\n\\n\\n\\nRepublicans join Trump\\'s attacks on justice system after verdict\\n\\nRepublicans lawmakers are joining former President Donald Trump\\'s attacks on the justice system and a campaign of vengeance after his guilty verdict.\\n\\nRepublicans lawmakers are joining former President Donald Trump\\'s attacks on the justice system and a campaign of vengeance after his guilty verdict.\\nWASHINGTON -- Embracing Donald Trump\\'s strategy of blaming the U.S. justice system after his historic guilty verdict, Republicans in Congress are fervently enlisting themselves in his campaign of vengeance and political retribution as the GOP runs to reclaim the White House.\\n\\nAlmost no Republican official has stood up to suggest Trump should not be the party\\'s presidential candidate for the November election - in fact, some have sought to hasten his nomination. Few others dared to defend the legitimacy of the New York state court that heard the hush money case or the 12 jurors who unanimously rendered their verdict.\\n\\nAnd those Republicans who expressed doubts about Trump\\'s innocence or political viability, including his former hawkish national security adviser John Bolton or top-tier Senate candidate Larry Hogan of Maryland, were instantly bullied by the former president\\'s enforcers and told to \"leave the party.\"\\n\\nRep. Marjorie Taylor Greene, R-Ga., said she\\'s voting for Trump \"whether he is a free man or a prisoner of the Biden regime.\"\\n\\nShe also posted the upside-down American flag that has come to symbolize the \"Stop the Steal\" movement Trump started with allies before the Jan. 6, 2021, attack on the U.S. Capitol.\\n\\nThe swift, strident and deepening commitment to Trump despite his felony conviction shows how fully Republican leaders and lawmakers have been infused with his unfounded grievances of a \"rigged\" system and dangerous conspiracies of \"weaponized\" government, using them in their own attacks on President Joe Biden and the Democrats.\\n\\nRather than shunning Trump\\'s escalating authoritarian language or ensuring they will provide checks and balances for a second Trump term, the Republican senators and representatives are upturning longstanding faith in U.S. governance, and setting the stage for what they plan to do if Trump regains power.\\n\\nOn Friday, House Judiciary Committee Chairman Jim Jordan, R-Ohio, demanded the prosecutors Alvin Bragg and Matthew Colangelo appear for a June hearing on the \"weaponization of the federal government\" and \"the unprecedented political prosecution\" of Trump - despite the fact that Biden, as president, has no authority over the state courts in New York.\\n\\n\"What we\\'re gearing up for is if Trump wins, he\\'s going to use the apparatus of the state to target his political opponents,\" said Jason Stanley, a professor at Yale and the author of \"How Fascism Works.\"\\n\\nStanley said history is full of examples of people not believing the rhetoric of authoritarians. \"Believe what they say,\" he said. \"He\\'s literally telling you he\\'s going to use the apparatus of the state to target his political opponents.\"\\n\\nAt his Trump Tower on Friday in New York, the former president returned to the kinds of attacks he has repeatedly lodged in campaign speeches, portraying Biden as the one who is \"corrupt\" and the U.S. as a \"fascist\" nation.\\n\\nTrump called the members of the bipartisan House committee that investigated the Jan. 6 attack on the U.S. Capitol \"thugs\" and said Biden was a \"Manchurian candidate,\" a phrase inspired by the 1960s movie portraying a puppet of a U.S. political enemy.\\n\\nA Trump campaign memo contained talking points for Republican lawmakers, suggesting they call the case a \"sham,\" \"hoax,\" \"witch hunt,\" \"election interference\" and \"lawfare\" designed by Biden, whom it called \"crooked.\"\\n\\nBiden faces no such charges, and the House GOP\\'s efforts to impeach the president over his son Hunter Biden\\'s business dealings have largely stalled out. Hunter Biden is due in court next week on an unrelated firearms charge in Wilmington, Delaware.\\n\\nJoe Biden said Friday that \"it\\'s reckless, it\\'s dangerous, it\\'s irresponsible, for anyone to say this is rigged just because they don\\'t like the verdict.\"\\n\\nAsked later at the White House if this could happen to him, Biden said: \"Not at all. I didn\\'t do anything wrong. The system still works.\"\\n\\nAs for Trump\\'s claims the case is being orchestrated by the Democratic president to hurt him politically, Biden quipped: \"I didn\\'t know I was that powerful.\"\\n\\nIn the hush money case, Trump was found guilty of trying to influence the 2016 election by falsifying payment to a porn actor to bury her story of an affair. He faces three other felony indictments, including the federal case over his effort to overturn the 2020 election. But they are not likely to be heard before November\\'s expected election rematch with Biden.\\n\\nThursday\\'s verdict came after a jury in 2023 found Trump to be liable for sexual abuse against advice columnist E. Jean Carroll and a judge in a 2024 business fraud case determined that Trump lied about his wealth for years, ordering him to pay a staggering $355 million in penalties.\\n\\nAlmost to a person, the Republicans in Congress who spoke out provided a singular voice for Trump.\\n\\nSpeaker Mike Johnson on \"Fox & Friends\" amplified the claim, without evidence, that Democrats are trying to hurt Trump. Johnson, R-La., said he thinks the Supreme Court should \"step in\" to resolve the case.\\n\\n\"The justices on the court, I know many of them personally, I think they\\'re deeply concerned about that as we are,\" Johnson said.\\n\\nThe outgoing Senate Republican leader, Mitch McConnell of Kentucky, said he expected Trump would win the hush money case on appeal, but the three senators seeking to replace McConnell as leader echoed Trump with stronger criticisms of the judicial system.\\n\\nSouth Dakota Sen. John Thune said the case was \"politically motivated.\" Texas Sen. John Cornyn called the verdict \"a disgrace.\" Sen. Rick Scott of Florida said that everyone who calls themselves a party leader \"must stand up and condemn\" what he called \"lawless election interference.\"\\n\\nSen. Susan Collins, the Maine Republican who is known as a bipartisan leader, said the prosecutor \"brought these charges precisely because of who the defendant was rather than because of any specified criminal conduct.\"\\n\\nWith sentencing in the hush money case expected in July before the Republican National Convention, Republican Rep. Chip Roy of Texas said the GOP should move up the convention to speed up Trump\\'s nomination as the party\\'s presidential pick.\\n\\nRepublican judicial advocate Mike Davis, a former top Senate aide mentioned for a future Trump administration position, circulated a letter outlining the next steps.\\n\\n\"Dear Republicans,\" he said in a Friday post. If their response to the guilty verdict was \"we must respect the process\" or \"we are too principled to retaliate,\" he suggested they do two things: One was an expletive, the other: \"Leave the party.\"\\n\\nSen. Mike Lee, R-Utah, circulated his own letter in which he suggested it was the White House that \"made a mockery\" of the rule of law and altered politics in \"un-American\" ways. He and other senators threatened to stall Senate business until Republicans take action.\\n\\n\"Those who turned our judicial system into a political cudgel must be held accountable,\" Lee said.\\n\\nAssociated Press writers Michelle L. Price, Ali Swenson and Chris Megerian contributed to this story.', metadata={'source': 'news.txt'})"
      ]
     },
     "execution_count": 4,
     "metadata": {},
     "output_type": "execute_result"
    }
   ],
   "source": [
    "data[0]"
   ]
  },
  {
   "cell_type": "code",
   "execution_count": 5,
   "metadata": {},
   "outputs": [
    {
     "data": {
      "text/plain": [
       "6"
      ]
     },
     "execution_count": 5,
     "metadata": {},
     "output_type": "execute_result"
    }
   ],
   "source": [
    "from langchain.document_loaders.csv_loader import CSVLoader # type: ignore\n",
    "\n",
    "loader = CSVLoader(\"addresses.csv\")\n",
    "data = loader.load()\n",
    "len(data)\n"
   ]
  },
  {
   "cell_type": "code",
   "execution_count": 6,
   "metadata": {},
   "outputs": [
    {
     "name": "stdout",
     "output_type": "stream",
     "text": [
      "Requirement already satisfied: unstructured in d:\\anaconda\\envs\\venv\\lib\\site-packages (0.14.4)\n",
      "Requirement already satisfied: libmagic in d:\\anaconda\\envs\\venv\\lib\\site-packages (1.0)\n",
      "Requirement already satisfied: python-magic in d:\\anaconda\\envs\\venv\\lib\\site-packages (0.4.27)\n",
      "Requirement already satisfied: python-magic-bin in d:\\anaconda\\envs\\venv\\lib\\site-packages (0.4.14)\n",
      "Requirement already satisfied: chardet in d:\\anaconda\\envs\\venv\\lib\\site-packages (from unstructured) (5.2.0)\n",
      "Requirement already satisfied: filetype in d:\\anaconda\\envs\\venv\\lib\\site-packages (from unstructured) (1.2.0)\n",
      "Requirement already satisfied: lxml in d:\\anaconda\\envs\\venv\\lib\\site-packages (from unstructured) (5.2.2)\n",
      "Requirement already satisfied: nltk in d:\\anaconda\\envs\\venv\\lib\\site-packages (from unstructured) (3.8.1)\n",
      "Requirement already satisfied: tabulate in d:\\anaconda\\envs\\venv\\lib\\site-packages (from unstructured) (0.9.0)\n",
      "Requirement already satisfied: requests in d:\\anaconda\\envs\\venv\\lib\\site-packages (from unstructured) (2.32.3)\n",
      "Requirement already satisfied: beautifulsoup4 in d:\\anaconda\\envs\\venv\\lib\\site-packages (from unstructured) (4.12.3)\n",
      "Requirement already satisfied: emoji in d:\\anaconda\\envs\\venv\\lib\\site-packages (from unstructured) (2.12.1)\n",
      "Requirement already satisfied: dataclasses-json in d:\\anaconda\\envs\\venv\\lib\\site-packages (from unstructured) (0.6.6)\n",
      "Requirement already satisfied: python-iso639 in d:\\anaconda\\envs\\venv\\lib\\site-packages (from unstructured) (2024.4.27)\n",
      "Requirement already satisfied: langdetect in d:\\anaconda\\envs\\venv\\lib\\site-packages (from unstructured) (1.0.9)\n",
      "Requirement already satisfied: numpy in d:\\anaconda\\envs\\venv\\lib\\site-packages (from unstructured) (1.26.4)\n",
      "Requirement already satisfied: rapidfuzz in d:\\anaconda\\envs\\venv\\lib\\site-packages (from unstructured) (3.9.3)\n",
      "Requirement already satisfied: backoff in d:\\anaconda\\envs\\venv\\lib\\site-packages (from unstructured) (2.2.1)\n",
      "Requirement already satisfied: typing-extensions in d:\\anaconda\\envs\\venv\\lib\\site-packages (from unstructured) (4.12.1)\n",
      "Requirement already satisfied: unstructured-client in d:\\anaconda\\envs\\venv\\lib\\site-packages (from unstructured) (0.23.0)\n",
      "Requirement already satisfied: wrapt in d:\\anaconda\\envs\\venv\\lib\\site-packages (from unstructured) (1.16.0)\n",
      "Requirement already satisfied: soupsieve>1.2 in d:\\anaconda\\envs\\venv\\lib\\site-packages (from beautifulsoup4->unstructured) (2.5)\n",
      "Requirement already satisfied: marshmallow<4.0.0,>=3.18.0 in d:\\anaconda\\envs\\venv\\lib\\site-packages (from dataclasses-json->unstructured) (3.21.2)\n",
      "Requirement already satisfied: typing-inspect<1,>=0.4.0 in d:\\anaconda\\envs\\venv\\lib\\site-packages (from dataclasses-json->unstructured) (0.9.0)\n",
      "Requirement already satisfied: six in c:\\users\\nishar miya\\appdata\\roaming\\python\\python312\\site-packages (from langdetect->unstructured) (1.16.0)\n",
      "Requirement already satisfied: click in d:\\anaconda\\envs\\venv\\lib\\site-packages (from nltk->unstructured) (8.1.7)\n",
      "Requirement already satisfied: joblib in d:\\anaconda\\envs\\venv\\lib\\site-packages (from nltk->unstructured) (1.4.2)\n",
      "Requirement already satisfied: regex>=2021.8.3 in d:\\anaconda\\envs\\venv\\lib\\site-packages (from nltk->unstructured) (2024.5.15)\n",
      "Requirement already satisfied: tqdm in d:\\anaconda\\envs\\venv\\lib\\site-packages (from nltk->unstructured) (4.66.4)\n",
      "Requirement already satisfied: charset-normalizer<4,>=2 in d:\\anaconda\\envs\\venv\\lib\\site-packages (from requests->unstructured) (3.3.2)\n",
      "Requirement already satisfied: idna<4,>=2.5 in d:\\anaconda\\envs\\venv\\lib\\site-packages (from requests->unstructured) (3.7)\n",
      "Requirement already satisfied: urllib3<3,>=1.21.1 in d:\\anaconda\\envs\\venv\\lib\\site-packages (from requests->unstructured) (2.2.1)\n",
      "Requirement already satisfied: certifi>=2017.4.17 in d:\\anaconda\\envs\\venv\\lib\\site-packages (from requests->unstructured) (2024.6.2)\n",
      "Requirement already satisfied: deepdiff>=6.0 in d:\\anaconda\\envs\\venv\\lib\\site-packages (from unstructured-client->unstructured) (7.0.1)\n",
      "Requirement already satisfied: httpx>=0.27.0 in d:\\anaconda\\envs\\venv\\lib\\site-packages (from unstructured-client->unstructured) (0.27.0)\n",
      "Requirement already satisfied: jsonpath-python>=1.0.6 in d:\\anaconda\\envs\\venv\\lib\\site-packages (from unstructured-client->unstructured) (1.0.6)\n",
      "Requirement already satisfied: mypy-extensions>=1.0.0 in d:\\anaconda\\envs\\venv\\lib\\site-packages (from unstructured-client->unstructured) (1.0.0)\n",
      "Requirement already satisfied: nest-asyncio>=1.6.0 in c:\\users\\nishar miya\\appdata\\roaming\\python\\python312\\site-packages (from unstructured-client->unstructured) (1.6.0)\n",
      "Requirement already satisfied: packaging>=23.1 in c:\\users\\nishar miya\\appdata\\roaming\\python\\python312\\site-packages (from unstructured-client->unstructured) (23.2)\n",
      "Requirement already satisfied: pypdf>=4.0 in d:\\anaconda\\envs\\venv\\lib\\site-packages (from unstructured-client->unstructured) (4.2.0)\n",
      "Requirement already satisfied: python-dateutil>=2.8.2 in c:\\users\\nishar miya\\appdata\\roaming\\python\\python312\\site-packages (from unstructured-client->unstructured) (2.8.2)\n",
      "Requirement already satisfied: requests-toolbelt>=1.0.0 in d:\\anaconda\\envs\\venv\\lib\\site-packages (from unstructured-client->unstructured) (1.0.0)\n",
      "Requirement already satisfied: ordered-set<4.2.0,>=4.1.0 in d:\\anaconda\\envs\\venv\\lib\\site-packages (from deepdiff>=6.0->unstructured-client->unstructured) (4.1.0)\n",
      "Requirement already satisfied: anyio in d:\\anaconda\\envs\\venv\\lib\\site-packages (from httpx>=0.27.0->unstructured-client->unstructured) (4.4.0)\n",
      "Requirement already satisfied: httpcore==1.* in d:\\anaconda\\envs\\venv\\lib\\site-packages (from httpx>=0.27.0->unstructured-client->unstructured) (1.0.5)\n",
      "Requirement already satisfied: sniffio in d:\\anaconda\\envs\\venv\\lib\\site-packages (from httpx>=0.27.0->unstructured-client->unstructured) (1.3.1)\n",
      "Requirement already satisfied: h11<0.15,>=0.13 in d:\\anaconda\\envs\\venv\\lib\\site-packages (from httpcore==1.*->httpx>=0.27.0->unstructured-client->unstructured) (0.14.0)\n",
      "Requirement already satisfied: colorama in c:\\users\\nishar miya\\appdata\\roaming\\python\\python312\\site-packages (from click->nltk->unstructured) (0.4.6)\n"
     ]
    }
   ],
   "source": [
    "!pip install unstructured libmagic python-magic python-magic-bin"
   ]
  },
  {
   "cell_type": "code",
   "execution_count": 7,
   "metadata": {},
   "outputs": [],
   "source": [
    "from langchain.document_loaders import UnstructuredURLLoader # type: ignore"
   ]
  },
  {
   "cell_type": "code",
   "execution_count": 8,
   "metadata": {},
   "outputs": [],
   "source": [
    "loader = UnstructuredURLLoader(urls=[\n",
    "    \"https://www.zdnet.com/article/what-is-chatgpt-and-why-does-it-matter-heres-everything-you-need-to-know/\",\n",
    "    \"https://www.facultyfocus.com/articles/teaching-with-technology-articles/artificial-intelligence-the-rise-of-chatgpt-and-its-implications/\"\n",
    "])"
   ]
  },
  {
   "cell_type": "code",
   "execution_count": 9,
   "metadata": {},
   "outputs": [
    {
     "data": {
      "text/plain": [
       "2"
      ]
     },
     "execution_count": 9,
     "metadata": {},
     "output_type": "execute_result"
    }
   ],
   "source": [
    "data = loader.load()\n",
    "len(data)"
   ]
  },
  {
   "cell_type": "code",
   "execution_count": 10,
   "metadata": {},
   "outputs": [
    {
     "data": {
      "text/plain": [
       "Document(page_content='Innovation\\n\\nWhy you can trust ZDNET\\n\\nZDNET independently tests and researches products to bring you our best recommendations and advice. When you buy through our links, we may earn a commission. Our process\\n\\n\\'ZDNET Recommends\\': What exactly does it mean?\\n\\nZDNET\\'s recommendations are based on many hours of testing, research, and comparison shopping. We gather data from the best available sources, including vendor and retailer listings as well as other relevant and independent reviews sites. And we pore over customer reviews to find out what matters to real people who already own and use the products and services we’re assessing.\\n\\nWhen you click through from our site to a retailer and buy a product or service, we may earn affiliate commissions. This helps support our work, but does not affect what we cover or how, and it does not affect the price you pay. Neither ZDNET nor the author are compensated for these independent reviews.  Indeed, we follow strict guidelines that ensure our editorial content is never influenced by advertisers.\\n\\nZDNET\\'s editorial team writes on behalf of you, our reader. Our goal is to deliver the most accurate information and the most knowledgeable advice possible in order to help you make smarter buying decisions on tech gear and a wide array of products and services. Our editors  thoroughly review and fact-check every article to ensure that our content meets the highest standards. If we have made an error or published misleading information, we will correct or clarify the article. If you see inaccuracies in our content, please report the mistake via this form.\\n\\nClose\\n\\nHome\\n\\nInnovation\\n\\nArtificial Intelligence\\n\\nWhat is ChatGPT and why does it matter? Here\\'s what you need to know\\n\\nThe AI chatbot\\'s advanced conversational capabilities continues to generate quite the buzz. We answer your questions.\\n\\nWritten by\\n\\nSabrina Ortiz, Editor\\n\\nMay 27, 2024 at 9:00 a.m. PT\\n\\n\\n        Reviewed by\\n        \\n\\nMin Shin\\n             ;\\n\\nMark Samuels\\n               and\\n\\nAlyson Windsor\\n\\n\\n\\n\\n\\n\\n\\n\\n\\n\\n\\nSabrina Ortiz/ZDNET\\n\\nWhat is ChatGPT?\\n\\nChatGPT is an AI chatbot with natural language processing (NLP) that allows you to have human-like conversations to complete various tasks. The\\xa0generative AI\\xa0tool can answer questions and assist you with tasks such as composing emails, essays, code, and more.\\n\\nAlso:\\xa0How to use ChatGPT: What you need to know now\\n\\nIt\\'s currently\\xa0open to use for free. A paid subscription version called ChatGPT Plus launched in February 2023 with access to priority access to OpenAI\\'s latest models and updates.\\n\\nWho made ChatGPT?\\n\\nAI startup OpenAI launched ChatGPT on November 30, 2022. OpenAI has also developed\\xa0DALL-E 2\\xa0and DALL-E 3, popular\\xa0AI image generators, and Whisper, an automatic speech recognition system.\\n\\nWho owns ChatGPT currently?\\n\\nOpenAI owns ChatGPT. Microsoft is a major investor in OpenAI thanks to multiyear, multi-billion dollar\\xa0investments. Elon Musk was an investor when OpenAI was first founded in 2015, but has since completely severed ties with the startup and created his own AI chatbot, Grok.\\n\\nHow can you access ChatGPT?\\n\\nOn April 1, 2024, OpenAI stopped requiring you to log in to use ChatGPT. Now, you can access ChatGPT simply by visiting\\xa0chat.openai.com. You can also access ChatGPT\\xa0via an app on your iPhone\\xa0or\\xa0Android\\xa0device.\\n\\nOnce you visit the site, you can start chatting away with ChatGPT. A great way to get started is by asking a question, similar to what you would do with Google. You can ask as many questions as you\\'d like.\\n\\nAlso: ChatGPT no longer requires a login, but you might want one anyway. Here\\'s why\\n\\nThere are still some perks to creating an OpenAI account, such saving and reviewing your chat history and accessing custom instructions. Creating an OpenAI account is entirely free and easy. You can even log in with your Google account.\\n\\nFor step-by-step instructions, check out ZDNET\\'s guide on\\xa0how to start using ChatGPT.\\n\\nIs there a ChatGPT app?\\n\\nYes, an official ChatGPT app is available for both iPhone and Android users.\\n\\nAlso: ChatGPT dropped a free app for iPhones. Does it live up to the hype?\\n\\nMake sure to download   OpenAI\\'s app, as there are a plethora of copycat fake apps listed on Apple\\'s App Store and the Google Play Store that are not affiliated with the startup.\\n\\nIs ChatGPT available for free?\\n\\nChatGPT is free to use, regardless of what you use it for, including writing, coding, and much more.\\n\\nThere is a subscription option, ChatGPT Plus, that users can take advantage of that costs $20/month. The paid subscription model guarantees users extra perks, such as priority access to GPT-4o and the latest upgrades.\\n\\nAlso: ChatGPT vs ChatGPT Plus: Is it worth the subscription fee?\\n\\nAlthough the subscription price may seem steep, it is the same amount as Microsoft Copilot Pro and Google One AI, Microsoft\\'s and Google\\'s premium AI offerings.\\n\\nThe free version is still a solid option as it can access the same model and most of the same perks. One major exception: only subscribers get guaranteed access to GPT-4o when the model is at capacity.\\n\\nI tried using ChatGPT and it says it\\'s at capacity. What does that mean?\\n\\nThe ChatGPT website operates using servers. When too many people hop onto these servers, they may overload and can\\'t process your request. If this happens to you, you can visit the site later when fewer people are trying to access the tool. You can also keep the tab open and refresh it periodically.\\n\\nAlso: The best AI chatbots\\n\\nIf you want to skip the wait and have reliable access, you can subscribe to\\xa0ChatGPT Plus\\xa0for general access during peak times, faster response times, and priority access to new features and improvements, including priority access to GPT-4o.\\n\\nYou can also try using Bing\\'s AI chatbot, Copilot. This chatbot is free to use, runs on GPT-4, has no wait times, and can access the internet for more accurate information.\\n\\nWhat is ChatGPT used for?\\n\\nChatGPT has many functions in addition to answering simple questions. ChatGPT can compose essays, have philosophical conversations, do math, and even code for you.\\n\\nThe tasks ChatGPT can help with also don\\'t have to be so ambitious. For example, my favorite use of ChatGPT is for help creating basic lists for chores, such as packing and grocery shopping, and to-do lists that make my daily life more productive. The possibilities are endless.\\n\\nZDNET has published many ChatGPT how-to guides. Below are some of the most popular ones.\\n\\nUse ChatGPT to:\\n\\nWrite an essay\\n\\nCreate an app\\n\\nWrite code\\n\\nBuild your resume\\n\\nWrite Excel formulas\\n\\nSummarize content\\n\\nWrite a cover letter\\n\\nStart an Etsy business\\n\\nCreate charts and tables\\n\\nWrite Adruino drivers\\n\\nCan ChatGPT generate images?\\n\\nYes, ChatGPT can generate images, but only for ChatGPT Plus subscribers. Since OpenAI discontinued DALL-E 2 in February 2024, the only way to access its most advanced AI image generator, DALL-E 3, through OpenAI\\'s offerings is via its chatbot and ChatGPT Plus subscription.\\n\\nAlso: DALL-E adds new ways to edit and create AI-generated images. Learn how to use it\\n\\nMicrosoft\\'s Copilot offers image generation, which is also powered by DALL-E 3,   in its chatbot for free. This is a great alternative if you don\\'t want to shell out the money for ChatGPT Plus.\\n\\nHow does ChatGPT work?\\n\\nChatGPT runs on a large language model (LLM) architecture created by OpenAI called the\\xa0Generative Pre-trained Transformer\\xa0(GPT). Since its launch,   the free version of ChatGPT ran on a fine-tuned model in the GPT-3.5 series until May 2024, when the startup upgraded the model to GPT-4o.\\n\\nAlso:\\xa0Here\\'s a deep dive into how ChatGPT works\\n\\nWith a subscription to ChatGPT Plus, you can access GPT-3.5, GPT-4, or\\xa0GPT-4o. Plus, users also have the added perk of priority access to GPT-4o, even when it is at capacity, while free users get booted down to GPT-3.5.\\n\\nGenerative AI models of this type are trained on vast amounts of information from the internet, including websites, books, news articles, and more.\\n\\nWhat does ChatGPT stand for?\\n\\nAs mentioned above, the last three letters in ChatGPT\\'s namesake stand for Generative Pre-trained Transformer (GPT), a family of large language models created by OpenAI that uses deep learning to generate human-like, conversational text.\\n\\nAlso: What does GPT stand for? Understanding GPT 3.5, GPT 4, GPT-4 Turbo, and more\\n\\nThe \"Chat\" part of the name is simply a callout to its chatting capabilities.\\n\\nIs ChatGPT better than a search engine?\\n\\nChatGPT is a language model created to converse with the end user. A search engine indexes web pages on the internet to help users find information. One is not better than the other, as each suit different purposes.\\n\\nWhen searching for as much up-to-date, accurate information as you can access, your best bet is a search engine. It will provide you with pages upon pages of sources you can peruse.\\n\\nAlso: The best AI search engines of 2024: Google, Perplexity, and more\\n\\nAs of May, the free version of ChatGPT can get responses from both the GPT-4o model and the web. It will only pull its answer from, and ultimately list, a handful of sources, as opposed to showing nearly endless search results.\\n\\nFor example, I used GPT-4o to answer, \"What is the weather today in San Francisco?\" The response told me it searched four sites and provided links to them.\\n\\nIf you are looking for a platform that can explain complex topics in an easy-to-understand manner, then ChatGPT might be what you want. If you want the best of both worlds, there are plenty of AI search engines on the market that combine both.\\n\\nWhat are ChatGPT\\'s limitations?\\n\\nDespite its impressive capabilities, ChatGPT still has limitations. Users sometimes need to reword questions multiple times for ChatGPT to understand their intent. A bigger limitation is a lack of quality in responses, which can sometimes be plausible-sounding but are verbose or make no practical sense.\\n\\nInstead of asking for clarification on ambiguous questions, the model guesses what your question means, which can lead to poor responses. Generative AI models are also subject to hallucinations, which can result in inaccurate responses.\\n\\nDoes ChatGPT give wrong answers?\\n\\nAs mentioned above, ChatGPT, like all language models, has\\xa0limitations\\xa0and can give nonsensical answers and incorrect information, so it\\'s important to double-check the data it gives you.\\n\\nAlso: 8 ways to reduce ChatGPT hallucinations\\n\\nOpenAI recommends that you provide feedback on what ChatGPT generates by using the thumbs-up and thumbs-down buttons to improve its underlying model. You can even join the startup\\'s Bug Bounty program, which offers up to $20,000 for reporting security bugs and safety issues.\\n\\nCan ChatGPT refuse to answer my prompts?\\n\\nAI systems like ChatGPT can and do reject\\xa0inappropriate requests. The AI assistant can identify inappropriate submissions to prevent the generation of unsafe content.\\n\\nAlso:\\xa06 things ChatGPT can\\'t do (and another 20 it refuses to do)\\n\\nThese submissions include questions that violate someone\\'s rights, are offensive, are discriminatory, or involve illegal activities. The ChatGPT model can also challenge incorrect premises, answer follow-up questions, and even admit mistakes when you point them out.\\n\\nThese guardrails are important. AI models can generate advanced, realistic content that can be exploited by bad actors for harm, such as spreading misinformation about public figures and influencing elections.\\n\\nCan I chat with ChatGPT?\\n\\nAlthough some people use ChatGPT for elaborate functions, such as writing code or even malware, you can use ChatGPT for more mundane activities, such as having a friendly conversation.\\n\\nAlso:\\xa0Do you like asking ChatGPT questions? You could get paid (a lot) for it\\n\\nSome conversation starters could be as simple as, \"I am hungry, what food should I get?\" or as elaborate as, \"What do you think happens in the afterlife?\" Either way, ChatGPT is sure to have an answer for you.\\n\\nIs ChatGPT safe?\\n\\nPeople are expressing concerns about AI chatbots replacing or atrophying human intelligence. For example, a chatbot can write an article on any topic efficiently (though not necessarily accurately) within seconds, potentially eliminating the need for human writers.\\n\\nChatbots can also write an entire essay within seconds, making it easier for students to cheat or avoid learning how to write properly. This even led\\xa0some school districts to block access\\xa0when ChatGPT initially launched.\\n\\nAlso:\\xa0Generative AI can be the academic assistant an underserved student needs\\n\\nNow, not only have many of those schools decided to unblock the technology, but some higher education institutions have been\\xa0catering their academic offerings\\xa0to AI-related coursework.\\n\\nAnother concern with AI chatbots is the possible spread of misinformation. ChatGPT itself says: \"My responses are not intended to be taken as fact, and I always encourage people to verify any information they receive from me or any other source.\" OpenAI also notes that ChatGPT sometimes writes \"plausible-sounding but incorrect or nonsensical answers.\"\\n\\nAlso:\\xa0Microsoft and OpenAI detect and disrupt nation-state cyber threats that use AI, report shows\\n\\nLastly, there are ethical concerns regarding the information ChatGPT was trained on, since the startup scraped the internet to train the chatbot.\\n\\nIt also automatically uses people\\'s interactions with the free version of the chatbot to further train its models, raising privacy concerns. OpenAI lets you turn off training in ChatGPT\\'s settings.\\n\\nDoes ChatGPT plagiarize?\\n\\nYes, sort of. OpenAI scraped the internet to train ChatGPT. Therefore, the technology\\'s knowledge is influenced by other people\\'s work. Since there is no guarantee that when OpenAI outputs its answers it is entirely original, the chatbot may regurgitate someone else\\'s work in your answer, which is considered plagiarism.\\n\\nIs there a ChatGPT detector?\\n\\nConcerns about students using AI to cheat mean the need for a ChatGPT text detector is becoming more evident.\\n\\nIn January 2023, OpenAI released a free tool to target this problem. Unfortunately, OpenAI\\'s \"classifier\" tool could only correctly identify 26% of AI-written text with a \"likely AI-written\" designation. Furthermore, it provided false positives 9% of the time, incorrectly identifying human-written work as AI-produced.\\n\\nThe tool performed so poorly\\xa0that, six months after being released, OpenAI it shut down \"due to its low rate of accuracy.\" Despite the tool\\'s failure, the startup claims to be researching more effective techniques for AI text identification.\\n\\nAlso: OpenAI unveils text-to-video model and the results are astonishing\\n\\nOther AI detectors exist on the market, including GPT-2 Output Detector,\\xa0Writer AI Content Detector, and Content at Scale\\'s AI Content Detection\\xa0tool. ZDNET put these tools to the test, and the results were underwhelming: all three were found to be unreliable sources for spotting AI, repeatedly giving false negatives. Here are\\xa0ZDNET\\'s full test results.\\n\\nWhat are the common signs something was written by ChatGPT?\\n\\nAlthough tools aren\\'t sufficient for detecting ChatGPT-generated writing, a\\xa0study\\xa0shows that humans could detect AI-written text by looking for politeness. The study\\'s results indicate that\\xa0ChatGPT\\'s writing style is extremely polite. And unlike humans, it cannot produce responses that include metaphors, irony, or sarcasm.\\n\\nWill my conversations with ChatGPT be used for training?\\n\\nOne of the major risks when using generative AI models is that they become more intelligent by being trained on user inputs. Therefore, when familiarizing yourself with how to use ChatGPT, you might wonder if your specific conversations will be used for training and, if so, who can view your chats.\\n\\nAlso:\\xa0This ChatGPT update fixed one of my biggest productivity issues with the AI chatbot\\n\\nOpenAI will use your conversations with the free chatbot to automatically training data to refine its models. You can opt out of the startup using your data for model training by clicking on the question mark in the bottom left-hand corner, Settings, and turning off \"Improve the model for everyone.\"\\n\\nWhat is GPT-4?\\n\\nGPT-4 is OpenAI\\'s language model that is much more advanced than its predecessor, GPT-3.5. Users can access GPT-4 by subscribing to ChatGPT Plus for $20 per month or using Microsoft\\'s Copilot.\\n\\nAlso: What does GPT stand for? Understanding GPT-3.5, GPT-4, and more\\n\\nGPT-4 has advanced intellectual capabilities, meaning it outperforms GPT-3.5 in a series of simulated benchmark exams. The newer model also supposedly produces fewer hallucinations.\\n\\nWhat is GPT-4o?\\n\\nGPT-4o is OpenAI\\'s latest, fastest, and most advanced flagship model. As the name implies, it has the same intelligence as GPT-4. However, the \"o\" in the title stands for \"omni,\" referring to its multimodal capabilities, which allow it to understand text, audio, image, and video inputs and output text, audio, and image outputs.\\n\\nAlso:\\xa06 ways OpenAI just supercharged ChatGPT for free users\\n\\nThe model is 50% cheaper in the API than GPT-4 Turbo while still matching its English and coding capabilities and outperforming it in non-English languages, vision, and audio understanding -- a big win for developers.\\n\\nAre there alternatives to ChatGPT worth considering?\\n\\nAlthough ChatGPT gets the most buzz, other options are just as good -- and might even be better suited to your needs. ZDNET has created a list of the best chatbots, which have all been tested by us and show which tool is best for your requirements.\\n\\nAlso: 4 things Claude AI can do that ChatGPT can\\'t\\n\\nDespite ChatGPT\\'s extensive abilities, there are major downsides to the AI chatbot. If you want to try the technology, there are plenty of other options: Copilot, Claude, Perplexity,\\xa0Jasper, and more.\\n\\nIs ChatGPT smart enough to pass benchmark exams?\\n\\nYes, ChatGPT is capable of passing a series of benchmark exams. A professor at Wharton, the University of Pennsylvania\\'s business school, used ChatGPT to take an MBA exam and the results were quite impressive.\\n\\nChatGPT not only passed the exam, but the tool scored between a B- and a B. The professor, Christian Terwiesch, was impressed at its basic operations management, process analysis questions, and explanations.\\n\\nOpenAI also tested the chatbot\\'s ability to pass benchmark exams. Although ChatGPT could pass many of these benchmark exams, its scores were usually in the lower percentile. However, with GPT-4, ChatGPT can score much higher.\\n\\nFor example, ChatGPT using GPT-3.5 scored in the lower 10th percentile of a simulated Bar Exam, while GPT-4 scored in the top 10th percentile. You can see more examples from OpenAI in the chart below.\\n\\nScreenshot by Sabrina Ortiz/ZDNET\\n\\nCan ChatGPT be used for job application assistance?\\n\\nYes, ChatGPT is a great resource to help with job applications. Undertaking a job search can be tedious and difficult, and ChatGPT can help you lighten the load. ChatGPT can build your resume\\xa0and write a cover letter.\\n\\nAlso:\\xa0How to use ChatGPT to write an essay\\n\\nIf your application has any written supplements, you can use ChatGPT to help you write those essays or personal statements.\\n\\nWhat are the most common ChatGPT plugins, and how do I use them?\\n\\nPlugins allowed ChatGPT to connect to third-party applications, including access to real-time information on the web. The plugins expanded ChatGPT\\'s abilities, allowing it to assist with many more activities, such as planning a trip or finding a place to eat.\\n\\nAlso:\\xa0My two favorite ChatGPT Plus features and the remarkable things I can do with them\\n\\nOn March 19, 2024, however, OpenAI stopped allowing users to install new plugins or start new conversations with existing ones. Instead, OpenAI replaced plugins with GPTs, which are easier for developers to build.\\n\\nUsers can find 3 million ChatGPT chatbots, also known as GPTs, on the GPT store. Unfortunately, there is also a lot of spam in the GPT store.\\n\\nWhat is Microsoft\\'s involvement with ChatGPT?\\n\\nMicrosoft was an early investor in OpenAI, the AI startup behind ChatGPT, long before ChatGPT was released to the public.   Microsoft\\'s first involvement with OpenAI was in 2019, when the company invested $1 billion, and then another $2 billion in the years after. In January 2023, Microsoft extended its partnership with OpenAI through a multiyear, multi-billion dollar investment.\\n\\nAlso: ChatGPT vs. Copilot: Which AI chatbot is better for you?\\n\\nNeither company disclosed the investment value, but unnamed sources told Bloomberg that it could total $10 billion over multiple years. In return, OpenAI\\'s exclusive cloud-computing provider is Microsoft Azure, powering all OpenAI workloads across research, products, and API services.\\n\\nMicrosoft has also used its   OpenAI partnership to revamp its Bing search engine and improve its browser.\\n\\nOn February 7, 2023, Microsoft unveiled a new Bing tool, now known as Copilot, that runs on OpenAI\\'s GPT-4, customized specifically for search.\\n\\nWhat does Copilot (formerly Bing Chat) have to do with ChatGPT?\\n\\nIn February 2023,\\xa0Microsoft unveiled\\xa0a new version of Bing -- and its standout feature was its integration with ChatGPT. When it was announced, Microsoft shared that Bing Chat, now Copilot, was powered by a next-generation version of OpenAI\\'s large language model, making it \"more powerful than ChatGPT.\" Five weeks after the launch, Microsoft revealed that Copilot had been running on GPT-4 before the model had even launched.\\n\\nHow does Copilot compare to ChatGPT?\\n\\nCopilot uses OpenAI\\'s GPT-4, which means that since its launch, it has been more efficient and capable than the standard, free version of ChatGPT. At the time, Copilot boasted several other features over ChatGPT, such as access to the internet, knowledge of current information, and footnotes.\\n\\nIn May 2024, however, OpenAI supercharged the free version of its chatbot with GPT-4o. The upgrade gave users GPT-4 level intelligence, the ability to get responses from the web via ChatGPT Browse with Bing, analyze data, chat about photos and documents, use GPTs, access the GPT Store, and Voice Mode. Therefore, after the upgrade, ChatGPT reclaimed its crown as the best AI chatbot.\\n\\nWhat is Gemini and how does it relate to ChatGPT?\\n\\nGemini is Google\\'s AI chat service, a rival to ChatGPT. On February 6, 2023, Google introduced its experimental AI chat service, which was then called Google Bard. Over a month after the announcement, Google began rolling out\\xa0access to Bard first via a waitlist. Now, it is available to the general public.\\n\\nArtificial Intelligence\\n\\nTransparency is sorely lacking amid growing AI interest\\n\\nWhat is a Chief AI Officer, and how do you become one?\\n\\nHow Adobe manages AI ethics concerns while fostering creativity\\n\\n6 ways OpenAI just supercharged ChatGPT for free users\\n\\nTransparency is sorely lacking amid growing AI interest\\n\\nWhat is a Chief AI Officer, and how do you become one?\\n\\nHow Adobe manages AI ethics concerns while fostering creativity\\n\\n6 ways OpenAI just supercharged ChatGPT for free users\\n\\nEditorial standards\\n\\nShow Comments\\n\\nLog In to Comment\\n\\nCommunity Guidelines\\n\\nRelated\\n\\nChatGPT vs. Copilot: Which AI chatbot is better for you?\\n\\nWhat does GPT stand for? Understanding GPT-3.5, GPT-4, GPT-4o, and more\\n\\nWhat is Copilot (formerly Bing Chat)? Here\\'s everything you need to know', metadata={'source': 'https://www.zdnet.com/article/what-is-chatgpt-and-why-does-it-matter-heres-everything-you-need-to-know/'})"
      ]
     },
     "execution_count": 10,
     "metadata": {},
     "output_type": "execute_result"
    }
   ],
   "source": [
    "data[0]"
   ]
  },
  {
   "cell_type": "code",
   "execution_count": 11,
   "metadata": {},
   "outputs": [],
   "source": [
    "text = \"\"\"Interstellar is a 2014 epic science fiction drama film directed by Christopher Nolan, who co-wrote it with his brother Jonathan. It stars Matthew McConaughey, Anne Hathaway, Jessica Chastain, Bill Irwin, Ellen Burstyn, Michael Caine, and Matt Damon. Set in a dystopian future where Earth is suffering from catastrophic blight and famine, the film follows a group of astronauts who travel through a wormhole near Saturn in search of a new home for humankind.\n",
    "\n",
    "The screenplay had its origins in a script Jonathan developed in 2007, and was originally set to be directed by Steven Spielberg. Theoretical physicist Kip Thorne was an executive producer and scientific consultant on the film, and wrote the tie-in book The Science of Interstellar. Cinematographer Hoyte van Hoytema shot it on 35 mm movie film in the Panavision anamorphic format and IMAX 70 mm. Filming began in late 2013 and took place in Alberta, Klaustur, and Los Angeles. Interstellar uses extensive practical and miniature effects, and the company DNEG created additional digital effects.\n",
    "\n",
    "Interstellar premiered in Los Angeles on October 26, 2014. In the United States, it was first released on film stock, expanding to venues using digital projectors. The film received positive reviews from critics and grossed over $681 million worldwide ($733 million after subsequent re-releases), making it the tenth-highest-grossing film of 2014. It has been praised by astronomers for its scientific accuracy and portrayal of theoretical astrophysics.[4][5][6] Interstellar was nominated for five awards at the 87th Academy Awards, winning Best Visual Effects, and received numerous other accolades.\n",
    "\n",
    "Plot\n",
    "In 2067, humanity is facing extinction following a global famine caused by ecocide.[7] Joseph Cooper, a former NASA test pilot, along with his son and daughter, Tom and Murph, and father-in-law Donald, are farmers, like most of humanity. One evening, during a dust storm, Cooper and Murph discover a gravitational anomaly in Murph's bedroom that has left patterns of falling particles. The pattern leads them to a secret NASA facility, where Cooper is enlisted by the lead scientist, Brand, as the pilot of their latest mission, which will take them beyond the galaxy in search of new habitable planets. This can now be achieved via a mysterious wormhole − another anomaly − near Saturn, leading to a faraway planetary system orbiting Gargantua, a supermassive black hole.\n",
    "\n",
    "Cooper struggles with leaving his children behind, but decides to do it in the hope of saving Tom and Murph's generation from extinction. He promises Murph he will return, but she is distraught. Cooper joins the Endurance team, consisting of Romilly, Doyle, and Brand's daughter Amelia − and two intelligent robots, TARS and CASE. After years of travel, the crew enters the wormhole and arrives at the first candidate planet in the new galaxy, only to find that it is an ocean world with massive tidal waves caused by Gargantua's intense gravitational pull. Doyle is swept away and killed by a wave. Cooper and Amelia narrowly survive, but are delayed returning to the Endurance. Due to time dilation, 23 years have passed onboard and on Earth during their absence from the craft. On Earth in 2092, an adult Murph helps Brand with his perennially unsolved gravity manipulation equation, which is supposed to help transport humanity en masse to potentially habitable worlds.\n",
    "\n",
    "On his deathbed, Brand confesses that the equation was a charade, meant to keep humans from dissolving into anarchy out of panic for their eventual doom. Murph is frustrated and wonders if Cooper knowingly abandoned her. She decides to continue Brand's work, and returns to her childhood home to search for clues. On the second candidate planet, the Endurance crew is met by a harsh ice world. They awaken Mann, the surviving NASA explorer in cryostasis, who landed here a decade ago. Mann and Cooper go on a scouting trip, but once alone, Mann confesses that the planet is uninhabitable and that he falsified data to attract rescuers. He tries to kill Cooper but fails. Amelia is pulled into rescuing Cooper, leading Romilly to die at the base by an explosive trap left by Mann. Mann takes off in a lander, attempting to hijack the Endurance, but is killed in a failed docking maneuver. Cooper and Amelia chase down the damaged spacecraft, and narrowly dock with it though they have limited fuel remaining and are falling into the black hole.\"\"\""
   ]
  },
  {
   "cell_type": "code",
   "execution_count": 12,
   "metadata": {},
   "outputs": [
    {
     "data": {
      "text/plain": [
       "'Interstellar is a 2014 epic science fiction drama film directed by Christopher Nolan, who co-wrote it with his brother Jonathan. It stars Matthew McConaughey, Anne Hathaway, Jessica Chastain, Bill Irw'"
      ]
     },
     "execution_count": 12,
     "metadata": {},
     "output_type": "execute_result"
    }
   ],
   "source": [
    "text[:200]"
   ]
  },
  {
   "cell_type": "code",
   "execution_count": 13,
   "metadata": {},
   "outputs": [
    {
     "name": "stderr",
     "output_type": "stream",
     "text": [
      "Created a chunk of size 457, which is longer than the specified 200\n",
      "Created a chunk of size 595, which is longer than the specified 200\n",
      "Created a chunk of size 601, which is longer than the specified 200\n",
      "Created a chunk of size 772, which is longer than the specified 200\n",
      "Created a chunk of size 973, which is longer than the specified 200\n"
     ]
    },
    {
     "data": {
      "text/plain": [
       "7"
      ]
     },
     "execution_count": 13,
     "metadata": {},
     "output_type": "execute_result"
    }
   ],
   "source": [
    "from langchain.text_splitter import CharacterTextSplitter # problem is speartor is fixed\n",
    "\n",
    "splitter = CharacterTextSplitter(\n",
    "    separator=\"\\n\",\n",
    "    chunk_size=200,\n",
    "    chunk_overlap=0\n",
    ")\n",
    "\n",
    "chunks = splitter.split_text(text)\n",
    "len(chunks)"
   ]
  },
  {
   "cell_type": "code",
   "execution_count": 14,
   "metadata": {},
   "outputs": [
    {
     "data": {
      "text/plain": [
       "['Interstellar is a 2014 epic science fiction drama film directed by Christopher Nolan, who co-wrote it with his brother Jonathan. It stars Matthew McConaughey, Anne Hathaway, Jessica Chastain, Bill Irwin, Ellen Burstyn, Michael Caine, and Matt Damon. Set in a dystopian future where Earth is suffering from catastrophic blight and famine, the film follows a group of astronauts who travel through a wormhole near Saturn in search of a new home for humankind.',\n",
       " 'The screenplay had its origins in a script Jonathan developed in 2007, and was originally set to be directed by Steven Spielberg. Theoretical physicist Kip Thorne was an executive producer and scientific consultant on the film, and wrote the tie-in book The Science of Interstellar. Cinematographer Hoyte van Hoytema shot it on 35 mm movie film in the Panavision anamorphic format and IMAX 70 mm. Filming began in late 2013 and took place in Alberta, Klaustur, and Los Angeles. Interstellar uses extensive practical and miniature effects, and the company DNEG created additional digital effects.',\n",
       " 'Interstellar premiered in Los Angeles on October 26, 2014. In the United States, it was first released on film stock, expanding to venues using digital projectors. The film received positive reviews from critics and grossed over $681 million worldwide ($733 million after subsequent re-releases), making it the tenth-highest-grossing film of 2014. It has been praised by astronomers for its scientific accuracy and portrayal of theoretical astrophysics.[4][5][6] Interstellar was nominated for five awards at the 87th Academy Awards, winning Best Visual Effects, and received numerous other accolades.',\n",
       " 'Plot',\n",
       " \"In 2067, humanity is facing extinction following a global famine caused by ecocide.[7] Joseph Cooper, a former NASA test pilot, along with his son and daughter, Tom and Murph, and father-in-law Donald, are farmers, like most of humanity. One evening, during a dust storm, Cooper and Murph discover a gravitational anomaly in Murph's bedroom that has left patterns of falling particles. The pattern leads them to a secret NASA facility, where Cooper is enlisted by the lead scientist, Brand, as the pilot of their latest mission, which will take them beyond the galaxy in search of new habitable planets. This can now be achieved via a mysterious wormhole − another anomaly − near Saturn, leading to a faraway planetary system orbiting Gargantua, a supermassive black hole.\",\n",
       " \"Cooper struggles with leaving his children behind, but decides to do it in the hope of saving Tom and Murph's generation from extinction. He promises Murph he will return, but she is distraught. Cooper joins the Endurance team, consisting of Romilly, Doyle, and Brand's daughter Amelia − and two intelligent robots, TARS and CASE. After years of travel, the crew enters the wormhole and arrives at the first candidate planet in the new galaxy, only to find that it is an ocean world with massive tidal waves caused by Gargantua's intense gravitational pull. Doyle is swept away and killed by a wave. Cooper and Amelia narrowly survive, but are delayed returning to the Endurance. Due to time dilation, 23 years have passed onboard and on Earth during their absence from the craft. On Earth in 2092, an adult Murph helps Brand with his perennially unsolved gravity manipulation equation, which is supposed to help transport humanity en masse to potentially habitable worlds.\",\n",
       " \"On his deathbed, Brand confesses that the equation was a charade, meant to keep humans from dissolving into anarchy out of panic for their eventual doom. Murph is frustrated and wonders if Cooper knowingly abandoned her. She decides to continue Brand's work, and returns to her childhood home to search for clues. On the second candidate planet, the Endurance crew is met by a harsh ice world. They awaken Mann, the surviving NASA explorer in cryostasis, who landed here a decade ago. Mann and Cooper go on a scouting trip, but once alone, Mann confesses that the planet is uninhabitable and that he falsified data to attract rescuers. He tries to kill Cooper but fails. Amelia is pulled into rescuing Cooper, leading Romilly to die at the base by an explosive trap left by Mann. Mann takes off in a lander, attempting to hijack the Endurance, but is killed in a failed docking maneuver. Cooper and Amelia chase down the damaged spacecraft, and narrowly dock with it though they have limited fuel remaining and are falling into the black hole.\"]"
      ]
     },
     "execution_count": 14,
     "metadata": {},
     "output_type": "execute_result"
    }
   ],
   "source": [
    "chunks"
   ]
  },
  {
   "cell_type": "code",
   "execution_count": 15,
   "metadata": {},
   "outputs": [
    {
     "data": {
      "text/plain": [
       "7"
      ]
     },
     "execution_count": 15,
     "metadata": {},
     "output_type": "execute_result"
    }
   ],
   "source": [
    "from langchain.text_splitter import RecursiveCharacterTextSplitter\n",
    "\n",
    "r_splitter = RecursiveCharacterTextSplitter(\n",
    "    separators=[\"\\n\\n\", \"\\n\", \" \"],\n",
    "    chunk_size = 200,\n",
    "    chunk_overlap=0\n",
    ") \n",
    "\n",
    "r_splitter.split_text(text)\n",
    "len(chunks)"
   ]
  },
  {
   "cell_type": "code",
   "execution_count": 16,
   "metadata": {},
   "outputs": [
    {
     "name": "stdout",
     "output_type": "stream",
     "text": [
      "7\n",
      "7\n",
      "7\n",
      "7\n",
      "7\n",
      "7\n",
      "7\n"
     ]
    }
   ],
   "source": [
    "for chunk in chunks:\n",
    "    print(len(chunks))"
   ]
  },
  {
   "cell_type": "code",
   "execution_count": 17,
   "metadata": {},
   "outputs": [],
   "source": [
    "import pandas as pd\n",
    "\n",
    "pd.set_option('display.max_colwidth', 100)\n"
   ]
  },
  {
   "cell_type": "code",
   "execution_count": 18,
   "metadata": {},
   "outputs": [
    {
     "data": {
      "text/plain": [
       "(8, 2)"
      ]
     },
     "execution_count": 18,
     "metadata": {},
     "output_type": "execute_result"
    }
   ],
   "source": [
    "df = pd.read_csv(\"sample_text.csv\")\n",
    "df.shape"
   ]
  },
  {
   "cell_type": "code",
   "execution_count": 19,
   "metadata": {},
   "outputs": [
    {
     "data": {
      "text/html": [
       "<div>\n",
       "<style scoped>\n",
       "    .dataframe tbody tr th:only-of-type {\n",
       "        vertical-align: middle;\n",
       "    }\n",
       "\n",
       "    .dataframe tbody tr th {\n",
       "        vertical-align: top;\n",
       "    }\n",
       "\n",
       "    .dataframe thead th {\n",
       "        text-align: right;\n",
       "    }\n",
       "</style>\n",
       "<table border=\"1\" class=\"dataframe\">\n",
       "  <thead>\n",
       "    <tr style=\"text-align: right;\">\n",
       "      <th></th>\n",
       "      <th>text</th>\n",
       "      <th>category</th>\n",
       "    </tr>\n",
       "  </thead>\n",
       "  <tbody>\n",
       "    <tr>\n",
       "      <th>0</th>\n",
       "      <td>Meditation and yoga can improve mental health</td>\n",
       "      <td>Health</td>\n",
       "    </tr>\n",
       "    <tr>\n",
       "      <th>1</th>\n",
       "      <td>Fruits, whole grains and vegetables helps control blood pressure</td>\n",
       "      <td>Health</td>\n",
       "    </tr>\n",
       "    <tr>\n",
       "      <th>2</th>\n",
       "      <td>These are the latest fashion trends for this week</td>\n",
       "      <td>Fashion</td>\n",
       "    </tr>\n",
       "    <tr>\n",
       "      <th>3</th>\n",
       "      <td>Vibrant color jeans for male are becoming a trend</td>\n",
       "      <td>Fashion</td>\n",
       "    </tr>\n",
       "    <tr>\n",
       "      <th>4</th>\n",
       "      <td>The concert starts at 7 PM tonight</td>\n",
       "      <td>Event</td>\n",
       "    </tr>\n",
       "    <tr>\n",
       "      <th>5</th>\n",
       "      <td>Navaratri dandiya program at Expo center in Mumbai this october</td>\n",
       "      <td>Event</td>\n",
       "    </tr>\n",
       "    <tr>\n",
       "      <th>6</th>\n",
       "      <td>Exciting vacation destinations for your next trip</td>\n",
       "      <td>Travel</td>\n",
       "    </tr>\n",
       "    <tr>\n",
       "      <th>7</th>\n",
       "      <td>Maldives and Srilanka are gaining popularity in terms of low budget vacation places</td>\n",
       "      <td>Travel</td>\n",
       "    </tr>\n",
       "  </tbody>\n",
       "</table>\n",
       "</div>"
      ],
      "text/plain": [
       "                                                                                  text  \\\n",
       "0                                        Meditation and yoga can improve mental health   \n",
       "1                     Fruits, whole grains and vegetables helps control blood pressure   \n",
       "2                                    These are the latest fashion trends for this week   \n",
       "3                                    Vibrant color jeans for male are becoming a trend   \n",
       "4                                                   The concert starts at 7 PM tonight   \n",
       "5                      Navaratri dandiya program at Expo center in Mumbai this october   \n",
       "6                                    Exciting vacation destinations for your next trip   \n",
       "7  Maldives and Srilanka are gaining popularity in terms of low budget vacation places   \n",
       "\n",
       "  category  \n",
       "0   Health  \n",
       "1   Health  \n",
       "2  Fashion  \n",
       "3  Fashion  \n",
       "4    Event  \n",
       "5    Event  \n",
       "6   Travel  \n",
       "7   Travel  "
      ]
     },
     "execution_count": 19,
     "metadata": {},
     "output_type": "execute_result"
    }
   ],
   "source": [
    "df"
   ]
  },
  {
   "cell_type": "code",
   "execution_count": 20,
   "metadata": {},
   "outputs": [
    {
     "name": "stderr",
     "output_type": "stream",
     "text": [
      "d:\\anaconda\\envs\\venv\\Lib\\site-packages\\sentence_transformers\\cross_encoder\\CrossEncoder.py:11: TqdmWarning: IProgress not found. Please update jupyter and ipywidgets. See https://ipywidgets.readthedocs.io/en/stable/user_install.html\n",
      "  from tqdm.autonotebook import tqdm, trange\n",
      "d:\\anaconda\\envs\\venv\\Lib\\site-packages\\huggingface_hub\\file_download.py:1132: FutureWarning: `resume_download` is deprecated and will be removed in version 1.0.0. Downloads always resume when possible. If you want to force a new download, use `force_download=True`.\n",
      "  warnings.warn(\n"
     ]
    },
    {
     "data": {
      "text/plain": [
       "(8, 768)"
      ]
     },
     "execution_count": 20,
     "metadata": {},
     "output_type": "execute_result"
    }
   ],
   "source": [
    "from sentence_transformers import SentenceTransformer\n",
    "\n",
    "encoder = SentenceTransformer(\"all-mpnet-base-v2\")\n",
    "vectors = encoder.encode(df.text)\n",
    "vectors.shape"
   ]
  },
  {
   "cell_type": "code",
   "execution_count": 21,
   "metadata": {},
   "outputs": [
    {
     "data": {
      "text/plain": [
       "array([[-0.00247396,  0.03626723, -0.05290459, ..., -0.09152357,\n",
       "        -0.03970001, -0.04330489],\n",
       "       [-0.03357268,  0.00980517, -0.03250129, ..., -0.05165466,\n",
       "         0.02245888, -0.03156181],\n",
       "       [-0.01865322, -0.04051315, -0.01235386, ...,  0.00610586,\n",
       "        -0.07179644,  0.02773852],\n",
       "       ...,\n",
       "       [-0.00066459,  0.04252128, -0.05645508, ...,  0.01315471,\n",
       "        -0.03183568, -0.04357662],\n",
       "       [-0.03317154,  0.03252454, -0.02484838, ...,  0.0117442 ,\n",
       "         0.05747125,  0.00571021],\n",
       "       [-0.00166395,  0.00413827, -0.04597083, ...,  0.02008528,\n",
       "         0.05656242, -0.00161596]], dtype=float32)"
      ]
     },
     "execution_count": 21,
     "metadata": {},
     "output_type": "execute_result"
    }
   ],
   "source": [
    "vectors"
   ]
  },
  {
   "cell_type": "code",
   "execution_count": 22,
   "metadata": {},
   "outputs": [],
   "source": [
    "dim = vectors.shape[1]"
   ]
  },
  {
   "cell_type": "code",
   "execution_count": 24,
   "metadata": {},
   "outputs": [],
   "source": [
    "import faiss\n",
    "\n",
    "index = faiss.IndexFlatL2(dim)"
   ]
  },
  {
   "cell_type": "code",
   "execution_count": 25,
   "metadata": {},
   "outputs": [
    {
     "data": {
      "text/plain": [
       "<faiss.swigfaiss_avx2.IndexFlatL2; proxy of <Swig Object of type 'faiss::IndexFlatL2 *' at 0x0000027797287A20> >"
      ]
     },
     "execution_count": 25,
     "metadata": {},
     "output_type": "execute_result"
    }
   ],
   "source": [
    "index"
   ]
  },
  {
   "cell_type": "code",
   "execution_count": 26,
   "metadata": {},
   "outputs": [],
   "source": [
    "index.add(vectors)"
   ]
  },
  {
   "cell_type": "code",
   "execution_count": 27,
   "metadata": {},
   "outputs": [
    {
     "data": {
      "text/plain": [
       "(768,)"
      ]
     },
     "execution_count": 27,
     "metadata": {},
     "output_type": "execute_result"
    }
   ],
   "source": [
    "search_query=\"What is the importance of meditation\"\n",
    "\n",
    "vec = encoder.encode(search_query)\n",
    "vec.shape"
   ]
  },
  {
   "cell_type": "code",
   "execution_count": 28,
   "metadata": {},
   "outputs": [
    {
     "data": {
      "text/plain": [
       "(1, 768)"
      ]
     },
     "execution_count": 28,
     "metadata": {},
     "output_type": "execute_result"
    }
   ],
   "source": [
    "import numpy as np\n",
    "svec = np.array(vec).reshape(1,-1)\n",
    "svec.shape"
   ]
  },
  {
   "cell_type": "code",
   "execution_count": 29,
   "metadata": {},
   "outputs": [
    {
     "data": {
      "text/plain": [
       "array([[ 1.25012547e-02,  8.10809955e-02, -2.20023654e-02,\n",
       "        -2.57380940e-02, -6.01528073e-03,  1.99583769e-02,\n",
       "        -1.14317797e-02,  1.26863308e-02, -4.50487956e-02,\n",
       "        -4.17786390e-02,  1.04854139e-03, -2.09398344e-02,\n",
       "        -1.75669901e-02, -6.65402785e-02,  2.12466213e-04,\n",
       "        -5.78440875e-02,  3.50150769e-03,  4.62399982e-03,\n",
       "        -5.65732345e-02,  5.29663265e-02, -2.49848701e-02,\n",
       "        -3.81421261e-02, -3.52206378e-04,  2.99619455e-02,\n",
       "        -2.47262102e-02,  1.29802071e-03,  3.31498049e-02,\n",
       "         1.54495267e-02,  4.79244441e-02, -5.46999611e-02,\n",
       "        -7.66371042e-02,  5.57240471e-03,  5.07056415e-02,\n",
       "        -3.89018059e-02,  1.66872724e-06, -6.88856747e-03,\n",
       "        -1.11288056e-02, -2.36922838e-02,  1.65387150e-03,\n",
       "         1.22939041e-02,  5.36075793e-02,  7.09848246e-03,\n",
       "         5.44139231e-03, -5.49256220e-04, -8.15594662e-03,\n",
       "         4.86974418e-02,  8.76531657e-03,  6.63599349e-04,\n",
       "         3.37240985e-03,  4.37944718e-02, -2.55895749e-04,\n",
       "         4.69751693e-02, -4.36637551e-02, -1.18309213e-02,\n",
       "         6.12382917e-03, -6.37256503e-02,  2.13987455e-02,\n",
       "        -2.10812762e-02, -4.53744046e-02,  2.77722664e-02,\n",
       "        -6.73326626e-02,  3.06954589e-02, -3.42552923e-02,\n",
       "        -6.07456407e-03,  5.06908000e-02,  2.45856233e-02,\n",
       "         7.16645718e-02, -4.36271215e-03,  3.49294469e-02,\n",
       "        -2.99307872e-02,  3.25120538e-02, -2.82023717e-02,\n",
       "         1.64706074e-02,  3.83171290e-02,  3.37842070e-02,\n",
       "        -2.43202280e-02, -3.26151811e-02, -1.44454818e-02,\n",
       "         2.03842707e-02,  5.20137250e-02,  1.39713272e-01,\n",
       "         1.01228543e-02, -1.68291088e-02,  1.81116480e-02,\n",
       "         9.46911424e-02, -1.25609621e-01, -3.39018591e-02,\n",
       "         2.12219581e-02, -3.23138684e-02, -9.53906588e-03,\n",
       "        -1.23330206e-02, -7.71013200e-02,  2.30603758e-02,\n",
       "         2.11618487e-02, -1.88504048e-02,  9.72934824e-04,\n",
       "         3.05930860e-02, -5.14887869e-02, -2.00915802e-02,\n",
       "         1.35867372e-01,  2.16008723e-02,  3.16945016e-02,\n",
       "        -7.87287392e-03, -3.93074080e-02, -5.50306542e-03,\n",
       "        -1.61577463e-02,  2.32544914e-02, -2.92178877e-02,\n",
       "         8.65300419e-04,  2.88884863e-02, -6.55710557e-03,\n",
       "         1.45556796e-02, -4.86458046e-03,  9.43590421e-03,\n",
       "         9.86447930e-03,  8.17670301e-03,  2.67452709e-02,\n",
       "        -1.71912163e-02, -2.53663138e-02, -7.27767765e-04,\n",
       "        -6.72835782e-02, -6.59173913e-03, -1.42972413e-02,\n",
       "        -4.70541680e-04,  6.28948361e-02,  6.47450686e-02,\n",
       "        -2.47051604e-02, -4.33261618e-02,  1.41252605e-02,\n",
       "        -2.01313514e-02, -2.86255162e-02, -2.06707511e-02,\n",
       "         1.42899891e-02,  5.85762635e-02, -2.15885565e-02,\n",
       "        -1.34812435e-02,  3.72322351e-02, -5.53550161e-02,\n",
       "        -8.59133061e-03,  5.83553640e-03,  3.50910015e-02,\n",
       "        -1.31939445e-02,  3.85918282e-02,  1.78736616e-02,\n",
       "        -3.25620398e-02, -1.69556700e-02,  2.88152546e-02,\n",
       "        -9.52886511e-03,  8.18895735e-03, -1.92878731e-02,\n",
       "         4.49584723e-02, -6.22479431e-03,  4.66481373e-02,\n",
       "        -2.04107147e-02,  3.27507146e-02,  2.02011019e-02,\n",
       "         7.65486211e-02, -2.12742500e-02, -1.09759383e-02,\n",
       "        -2.06984691e-02, -3.80766857e-03, -2.14223843e-03,\n",
       "         2.11150460e-02, -7.26771280e-02,  4.91492404e-03,\n",
       "         9.48613044e-03,  6.82750344e-02,  1.53200785e-02,\n",
       "        -8.61343518e-02, -2.25833394e-02, -3.92941907e-02,\n",
       "        -2.71443632e-02, -2.72434987e-02,  5.96601740e-02,\n",
       "         1.41886389e-03,  6.57083392e-02, -3.59202959e-02,\n",
       "         3.58558223e-02, -6.51161522e-02,  1.80404994e-03,\n",
       "        -2.67699938e-02, -3.77264281e-04, -2.75694951e-02,\n",
       "         7.38614202e-02,  9.01973695e-02, -1.95748731e-02,\n",
       "        -1.65346023e-02,  2.79287412e-03, -1.64354767e-03,\n",
       "        -1.85882673e-02,  2.42595491e-03,  1.56992003e-02,\n",
       "         4.07333346e-03,  9.66688152e-03, -2.85589099e-02,\n",
       "        -2.00319366e-04,  9.56809521e-03,  6.51774630e-02,\n",
       "        -2.44070534e-02, -1.32585336e-02, -1.01755429e-02,\n",
       "         3.33725289e-02, -9.00120940e-03, -7.22249895e-02,\n",
       "        -4.61680181e-02, -2.27308013e-02,  3.19567360e-02,\n",
       "        -2.73376908e-02,  1.05864264e-01,  1.33212209e-02,\n",
       "        -5.98254427e-03,  4.47536819e-02, -4.59573567e-02,\n",
       "         5.13289124e-04,  8.50111432e-03, -2.87199356e-02,\n",
       "         4.44375863e-03,  3.54331024e-02, -1.86284762e-02,\n",
       "         4.27459963e-02, -2.21330784e-02,  8.73426422e-02,\n",
       "         1.58706699e-02, -1.57308895e-02,  1.20009616e-01,\n",
       "        -2.60671624e-03,  2.62311883e-02,  8.51063617e-03,\n",
       "         3.90972234e-02,  8.63874331e-03, -4.62410562e-02,\n",
       "         2.44727079e-02,  4.16200347e-02,  1.05877547e-02,\n",
       "        -2.68293172e-03,  2.48353593e-02,  3.24256648e-03,\n",
       "         8.29960108e-02, -2.59648543e-02, -4.19229493e-02,\n",
       "         2.25605583e-03,  7.05818608e-02, -8.06601811e-03,\n",
       "        -2.79877428e-02, -2.14806087e-02, -1.55262910e-02,\n",
       "         2.71224268e-02,  2.77482066e-02, -2.12531667e-02,\n",
       "        -7.66960438e-03,  2.55332403e-02, -4.52167094e-02,\n",
       "        -3.03877909e-02, -5.40035078e-03, -2.00015493e-02,\n",
       "        -3.81185338e-02,  4.21979872e-04,  2.12349556e-02,\n",
       "        -1.04568340e-02, -4.95854765e-03, -1.80818401e-02,\n",
       "        -1.70410443e-02, -1.26225706e-02, -8.85014888e-03,\n",
       "         1.81668214e-02, -2.26452593e-02,  3.17249596e-02,\n",
       "        -8.15699622e-02,  2.54769484e-03, -3.97633240e-02,\n",
       "        -2.11650580e-02,  1.83850769e-02,  6.39922731e-03,\n",
       "        -1.84558984e-02, -3.79221849e-02, -1.99340805e-02,\n",
       "         5.50445244e-02,  2.62232646e-02, -6.57019205e-03,\n",
       "         4.00653156e-03, -2.85969041e-02, -1.68583561e-02,\n",
       "         1.97519958e-02, -4.80618590e-04,  1.50731653e-02,\n",
       "        -4.36335318e-02,  4.19323556e-02, -2.11868417e-02,\n",
       "         4.51482385e-02,  5.23829013e-02,  4.62936610e-02,\n",
       "         1.93208456e-02,  1.55436462e-02, -3.48265730e-02,\n",
       "        -1.68104637e-02,  6.31117374e-02, -4.57227379e-02,\n",
       "        -6.53633662e-03,  3.87970470e-02, -1.93532687e-02,\n",
       "        -3.96951400e-02, -1.27460212e-02,  2.00730842e-02,\n",
       "         8.52087571e-04,  2.12109573e-02,  2.18393505e-02,\n",
       "         1.80662889e-02,  2.74502821e-02,  3.66745666e-02,\n",
       "        -2.73534730e-02, -6.75186887e-03, -1.02812238e-02,\n",
       "         3.86752337e-02, -2.87427884e-02, -4.82492195e-03,\n",
       "         4.77820374e-02,  2.15386394e-02, -1.16291828e-03,\n",
       "        -1.07397558e-03, -1.14293937e-02, -2.26522516e-02,\n",
       "        -4.88688909e-02, -1.91921443e-02,  1.53806657e-02,\n",
       "        -1.13081494e-02, -5.32170944e-02,  9.06094760e-02,\n",
       "        -1.35670695e-02, -5.93099976e-03,  2.45933793e-02,\n",
       "         7.17920717e-03, -4.03794535e-02, -3.77586596e-02,\n",
       "         5.12022376e-02, -1.79825574e-02, -6.93421811e-02,\n",
       "        -1.03429966e-02,  1.16056269e-02, -1.92101207e-02,\n",
       "         2.60974113e-02,  1.62735395e-02, -9.18315444e-03,\n",
       "        -3.43164019e-02,  3.30636986e-02, -3.79355811e-02,\n",
       "        -2.52962131e-02,  4.60318476e-02,  5.02938181e-02,\n",
       "        -2.14943122e-02, -7.28636608e-02,  5.25371656e-02,\n",
       "        -1.78370741e-03,  3.64494808e-02, -1.50757879e-02,\n",
       "         1.32453404e-02, -8.11460912e-02, -5.70586277e-03,\n",
       "         2.72531807e-02,  6.76051080e-02,  1.26864552e-03,\n",
       "         1.87707618e-02,  2.38632150e-02,  2.37337109e-02,\n",
       "        -8.28432478e-03,  5.59690036e-02, -7.80494278e-03,\n",
       "        -1.22142490e-02,  2.02585924e-02, -1.26765773e-03,\n",
       "         2.56609842e-02,  3.53297703e-02,  2.54406985e-02,\n",
       "        -2.76462790e-02,  4.61158762e-03, -4.65459377e-02,\n",
       "         3.61961685e-02,  1.88974068e-02, -9.22027007e-02,\n",
       "        -3.76812853e-02, -6.39862800e-03, -6.68614684e-03,\n",
       "        -4.06367667e-02,  3.28031890e-02,  1.73044037e-02,\n",
       "         5.07231522e-03, -1.56073179e-02,  2.48545664e-03,\n",
       "         7.06351772e-02,  7.92662054e-02, -8.98543652e-03,\n",
       "        -5.90996211e-03, -8.64274055e-02,  6.28001466e-02,\n",
       "         2.52994895e-02, -3.10559757e-02, -3.77069078e-02,\n",
       "         2.48026904e-02, -3.75887938e-03,  3.23380679e-02,\n",
       "        -2.04531923e-02,  3.25513557e-02, -4.89010327e-02,\n",
       "        -3.78931360e-03, -2.31676437e-02,  1.58958733e-02,\n",
       "        -3.48965675e-02, -1.26878321e-02,  1.94088798e-02,\n",
       "         9.31113120e-03, -7.72861466e-02,  3.58621478e-02,\n",
       "         9.63643640e-02,  3.69913727e-02, -1.12680951e-02,\n",
       "         3.89457867e-02, -4.80287615e-03, -3.25093791e-02,\n",
       "        -3.52068357e-02,  3.77517603e-02, -7.29627833e-02,\n",
       "        -2.79868990e-02,  1.08874207e-02, -2.63387524e-02,\n",
       "        -1.75376069e-02,  1.96222253e-02,  3.62201780e-02,\n",
       "        -6.97104214e-03,  1.42067550e-02, -2.93027442e-02,\n",
       "        -3.19189578e-03, -4.06837033e-04,  1.70559324e-02,\n",
       "        -2.40495931e-02, -1.13412682e-02,  2.84295809e-02,\n",
       "         4.77531087e-03, -2.59301104e-02, -1.12997694e-02,\n",
       "        -6.09238632e-02, -4.09670640e-03, -4.50624526e-03,\n",
       "         2.89209951e-02, -1.83534995e-02,  3.38065694e-03,\n",
       "         1.09829530e-02,  1.35902809e-02,  1.06506178e-03,\n",
       "         3.24916504e-02,  5.90980537e-02, -1.43382140e-02,\n",
       "         1.43367322e-02,  3.34808938e-02, -7.23746326e-03,\n",
       "         2.87663676e-02,  4.14876081e-03,  1.86314317e-03,\n",
       "        -8.18904042e-02, -6.81849942e-02,  4.13685329e-02,\n",
       "         1.60783902e-02,  2.27470696e-02,  3.97770619e-03,\n",
       "         1.38832983e-02,  3.94292362e-02,  6.15545968e-03,\n",
       "        -7.73785040e-02, -6.78891093e-02, -2.76342034e-02,\n",
       "        -1.04484027e-02, -2.46250816e-02, -2.55639781e-03,\n",
       "         6.32147491e-03, -2.46565752e-02,  4.04571109e-02,\n",
       "        -2.55855136e-02, -1.76348556e-02, -7.36660277e-03,\n",
       "         8.35973993e-02,  3.42564173e-02,  1.55141542e-03,\n",
       "         5.71978167e-02, -6.57663047e-02,  2.34402996e-02,\n",
       "         7.60979429e-02, -2.04301961e-02, -7.95871578e-03,\n",
       "         1.56548321e-02,  1.17337052e-02,  9.88035463e-04,\n",
       "         1.22388536e-02,  1.06514990e-02,  8.14409032e-02,\n",
       "        -1.79326683e-02, -8.59162137e-02,  7.34573090e-03,\n",
       "        -6.18838109e-02, -5.56025794e-03,  2.52770297e-02,\n",
       "        -6.58315718e-02, -3.34351473e-02,  2.46196333e-03,\n",
       "         1.11484984e-02, -3.18420194e-02,  2.65172590e-02,\n",
       "        -1.56380218e-02, -8.05645809e-03, -1.63225140e-02,\n",
       "         2.07852814e-02, -1.29226036e-02, -2.29367930e-02,\n",
       "         1.91746522e-02, -4.33826540e-03, -1.17783658e-02,\n",
       "        -3.84344086e-02, -2.43696086e-02,  3.14792246e-02,\n",
       "         5.11032231e-02, -5.42132147e-02,  9.93598253e-03,\n",
       "        -2.56538801e-02,  1.30960317e-02,  4.24160250e-02,\n",
       "         8.01250525e-03,  1.91344488e-02, -2.46148054e-02,\n",
       "        -2.83665080e-02,  1.26237683e-02,  5.01831854e-03,\n",
       "        -3.32182087e-03, -2.23372672e-02, -9.95852873e-02,\n",
       "         1.07465768e-02,  7.11677596e-03, -3.48971300e-02,\n",
       "        -4.29020189e-02,  7.73286298e-02, -1.15026068e-02,\n",
       "         1.45709261e-01,  2.74803210e-03,  4.26963791e-02,\n",
       "         2.88612396e-03, -1.86718386e-02,  3.71995345e-02,\n",
       "         1.30727775e-02,  8.18935316e-03, -3.80259454e-02,\n",
       "         6.68149963e-02, -4.07346189e-02,  2.05253605e-02,\n",
       "        -1.32629657e-02, -6.41029775e-02, -3.33273001e-02,\n",
       "         3.15280482e-02,  3.80594470e-02, -1.37115233e-02,\n",
       "        -5.33590681e-33,  3.38719971e-02,  3.20717283e-02,\n",
       "        -1.50800934e-02,  1.24838643e-01, -3.85100991e-02,\n",
       "        -4.94790263e-03, -3.71767096e-02, -9.13048338e-04,\n",
       "         5.31518832e-03,  2.14478131e-02,  2.80457363e-02,\n",
       "         1.67593844e-02, -1.09151518e-02,  1.25013804e-02,\n",
       "         5.45045584e-02, -3.48682217e-02, -1.27196247e-02,\n",
       "         3.61089297e-02,  1.10528143e-02, -3.40080932e-02,\n",
       "         4.46781516e-03, -1.63209473e-03,  3.40490714e-02,\n",
       "        -6.46300986e-02, -2.91064847e-02,  2.69096512e-02,\n",
       "         1.47847794e-02, -7.54298791e-02, -8.63906145e-02,\n",
       "        -3.80553231e-02, -1.84950773e-02, -7.41109159e-03,\n",
       "         5.83556248e-03, -6.30549639e-02, -3.21331397e-02,\n",
       "        -1.69110838e-02, -5.23260143e-03,  1.97306881e-03,\n",
       "        -2.71321479e-02,  3.27225849e-02,  4.55675274e-03,\n",
       "        -1.92166641e-02, -1.33072073e-02,  9.90060065e-03,\n",
       "         8.13570805e-03,  3.73532809e-02, -4.34110649e-02,\n",
       "        -1.42478636e-02,  6.04887353e-03, -3.93817015e-02,\n",
       "        -4.07226458e-02, -3.79460193e-02, -2.45910548e-02,\n",
       "        -8.38026311e-03,  7.97711965e-03, -7.47258142e-02,\n",
       "        -4.60826047e-02, -1.27113219e-02, -2.49562841e-02,\n",
       "        -2.40593571e-02,  2.61384975e-02, -1.08966455e-02,\n",
       "        -7.20355613e-03,  1.70148606e-03,  2.50476580e-02,\n",
       "        -3.02336961e-02, -2.30762661e-02, -4.15056059e-03,\n",
       "        -1.37077579e-02, -2.22459380e-02,  3.73104364e-02,\n",
       "        -2.53985692e-02,  2.20587314e-03, -4.54025827e-02,\n",
       "         1.91242099e-02, -1.97581872e-02, -3.19203213e-02,\n",
       "         1.67805562e-03, -2.67663933e-02,  8.10244754e-02,\n",
       "         3.79891694e-02,  4.69204374e-02,  5.12496829e-02,\n",
       "         4.10390906e-02,  5.09489514e-02,  1.30779985e-02,\n",
       "        -2.42312369e-03,  7.09146559e-02, -2.70512905e-02,\n",
       "        -9.46528930e-03, -2.12099347e-02,  5.74920513e-03,\n",
       "        -3.43668414e-03, -8.69417097e-03,  4.03958894e-02,\n",
       "         7.97528960e-03, -8.26233998e-03, -1.69281866e-02,\n",
       "         5.06101809e-02, -1.04972199e-01, -3.56889628e-02,\n",
       "        -1.01227108e-02, -2.89494656e-02, -8.65125470e-03,\n",
       "         2.58045979e-02, -1.25389062e-02, -6.14579348e-03,\n",
       "        -3.57706882e-02,  1.66334249e-02, -2.75596697e-02,\n",
       "         1.50091981e-03,  3.33609805e-02,  7.02188984e-02,\n",
       "         9.04255488e-04, -1.48243140e-02, -1.49499606e-02,\n",
       "        -1.88035052e-02,  2.36699102e-03,  3.11281811e-02,\n",
       "        -6.11079969e-02, -4.37765941e-02,  6.48832023e-02,\n",
       "        -2.90938839e-02, -4.48125936e-02,  2.78860778e-02,\n",
       "         1.05130079e-03,  2.93788444e-02,  2.22568959e-03,\n",
       "         8.27064365e-03, -3.26426253e-02, -2.33259611e-02,\n",
       "        -2.49735359e-02,  2.34968056e-07, -3.34364437e-02,\n",
       "         4.39736014e-03,  1.03701942e-03, -5.29820435e-02,\n",
       "         3.30438465e-02, -8.07806943e-03, -3.13680209e-02,\n",
       "         9.69870482e-03,  4.69203070e-02, -1.30149797e-02,\n",
       "         2.07881220e-02,  1.32984119e-02,  8.73282831e-03,\n",
       "         4.39182884e-04,  2.93865297e-02, -9.16694552e-02,\n",
       "        -1.67914331e-02, -6.58769757e-02,  4.46718652e-03,\n",
       "         6.44956380e-02, -3.74160009e-03,  1.06504969e-02,\n",
       "         6.90312730e-03,  1.59833413e-02, -1.76351499e-02,\n",
       "         9.95483473e-02,  3.98697704e-02, -2.02444545e-03,\n",
       "         6.56999201e-02, -3.98772256e-03,  9.64065939e-02,\n",
       "        -5.59866079e-04, -5.92134036e-02,  5.75869717e-03,\n",
       "         2.26818267e-02,  1.13080349e-02,  8.31665751e-03,\n",
       "        -1.12991286e-02, -2.80477991e-03,  4.69998196e-02,\n",
       "        -1.71829946e-02,  2.25762352e-02, -6.05796417e-03,\n",
       "        -3.43614779e-02, -9.75337753e-04, -8.47504362e-02,\n",
       "        -1.77694962e-03,  3.48353432e-03,  1.73490774e-02,\n",
       "        -1.37827117e-02,  3.79356667e-02,  3.55687961e-02,\n",
       "        -5.16328774e-02,  2.52633379e-03, -2.01643910e-02,\n",
       "        -2.39769798e-02,  1.20085804e-02,  1.75951496e-02,\n",
       "         9.01733525e-03, -1.70892831e-02, -8.14496633e-03,\n",
       "         5.99310286e-02,  1.47800678e-02,  5.43654244e-03,\n",
       "        -4.25562896e-02, -1.44027406e-02, -4.42521647e-02,\n",
       "         1.27876715e-34, -2.91805761e-03, -1.94474049e-02,\n",
       "         1.64508447e-02, -7.95902219e-03,  3.90431918e-02,\n",
       "        -3.57433397e-04, -8.13743845e-02,  2.12124619e-03,\n",
       "        -4.06787805e-02, -4.91652526e-02, -1.12313060e-02]], dtype=float32)"
      ]
     },
     "execution_count": 29,
     "metadata": {},
     "output_type": "execute_result"
    }
   ],
   "source": [
    "svec"
   ]
  },
  {
   "cell_type": "code",
   "execution_count": 30,
   "metadata": {},
   "outputs": [],
   "source": [
    "distances, I = index.search(svec, k=2)"
   ]
  },
  {
   "cell_type": "code",
   "execution_count": 31,
   "metadata": {},
   "outputs": [
    {
     "data": {
      "text/plain": [
       "array([[0, 5]], dtype=int64)"
      ]
     },
     "execution_count": 31,
     "metadata": {},
     "output_type": "execute_result"
    }
   ],
   "source": [
    "I"
   ]
  },
  {
   "cell_type": "code",
   "execution_count": 32,
   "metadata": {},
   "outputs": [
    {
     "data": {
      "text/plain": [
       "'What is the importance of meditation'"
      ]
     },
     "execution_count": 32,
     "metadata": {},
     "output_type": "execute_result"
    }
   ],
   "source": [
    "search_query"
   ]
  },
  {
   "cell_type": "code",
   "execution_count": null,
   "metadata": {},
   "outputs": [],
   "source": []
  }
 ],
 "metadata": {
  "kernelspec": {
   "display_name": "Python 3",
   "language": "python",
   "name": "python3"
  },
  "language_info": {
   "codemirror_mode": {
    "name": "ipython",
    "version": 3
   },
   "file_extension": ".py",
   "mimetype": "text/x-python",
   "name": "python",
   "nbconvert_exporter": "python",
   "pygments_lexer": "ipython3",
   "version": "3.12.3"
  }
 },
 "nbformat": 4,
 "nbformat_minor": 2
}
